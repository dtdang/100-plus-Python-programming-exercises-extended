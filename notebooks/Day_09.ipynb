{
 "cells": [
  {
   "cell_type": "markdown",
   "metadata": {},
   "source": [
    "# Question 26\n",
    "\n",
    "### **Question:**\n",
    "\n",
    "> **_Define a function which can compute the sum of two numbers._**\n",
    "\n",
    "---\n",
    "\n",
    "### Hints:\n",
    "\n",
    "> **_Define a function with two numbers as arguments. You can compute the sum in the function and return the value._**\n",
    "\n",
    "---\n",
    "\n",
    "\n",
    "\n",
    "**Solutions:**"
   ]
  },
  {
   "cell_type": "code",
   "execution_count": null,
   "metadata": {},
   "outputs": [],
   "source": [
    "def sum_two(n1, n2):\n",
    "    return n1 + n2\n"
   ]
  },
  {
   "cell_type": "markdown",
   "metadata": {},
   "source": [
    "---\n",
    "\n",
    "# Question 27\n",
    "\n",
    "### **Question:**\n",
    "\n",
    "> **_Define a function that can convert a integer into a string and print it in console._**\n",
    "\n",
    "---\n",
    "\n",
    "### Hints:\n",
    "\n",
    "> **_Use str() to convert a number to string._**\n",
    "\n",
    "---\n",
    "\n",
    "\n",
    "\n",
    "**Solutions:**"
   ]
  },
  {
   "cell_type": "code",
   "execution_count": 3,
   "metadata": {},
   "outputs": [
    {
     "name": "stdout",
     "output_type": "stream",
     "text": [
      "5\n",
      "<class 'str'>\n"
     ]
    }
   ],
   "source": [
    "def int_to_str(n):\n",
    "    n = str(n)\n",
    "    print(n)\n",
    "    return n\n",
    "    \n",
    "n1 = int_to_str(5)\n",
    "print(type(n1))"
   ]
  },
  {
   "cell_type": "markdown",
   "metadata": {},
   "source": [
    "---\n",
    "\n",
    "# Question 28\n",
    "\n",
    "### **Question:**\n",
    "\n",
    "> **_Define a function that can receive two integer numbers in string form and compute their sum and then print it in console._**\n",
    "\n",
    "---\n",
    "\n",
    "### Hints:\n",
    "\n",
    "> **_Use int() to convert a string to integer._**\n",
    "\n",
    "---\n",
    "\n",
    "\n",
    "\n",
    "**Solutions:**"
   ]
  },
  {
   "cell_type": "code",
   "execution_count": 6,
   "metadata": {},
   "outputs": [
    {
     "name": "stdout",
     "output_type": "stream",
     "text": [
      "7\n"
     ]
    }
   ],
   "source": [
    "def sum_str(n1,n2):\n",
    "    return int(n1) + int(n2)\n",
    "\n",
    "n1 = sum_str('4','3')\n",
    "print(n1)"
   ]
  },
  {
   "cell_type": "markdown",
   "metadata": {},
   "source": [
    "---\n",
    "\n",
    "# Question 29\n",
    "\n",
    "### **Question:**\n",
    "\n",
    "> **_Define a function that can accept two strings as input and concatenate them and then print it in console._**\n",
    "\n",
    "---\n",
    "\n",
    "### Hints:\n",
    "\n",
    "> **_Use + sign to concatenate the strings._**\n",
    "\n",
    "---\n",
    "\n",
    "\n",
    "\n",
    "**Solutions:**"
   ]
  },
  {
   "cell_type": "code",
   "execution_count": 9,
   "metadata": {},
   "outputs": [
    {
     "name": "stdout",
     "output_type": "stream",
     "text": [
      "hello world\n"
     ]
    },
    {
     "data": {
      "text/plain": [
       "'hello world'"
      ]
     },
     "execution_count": 9,
     "metadata": {},
     "output_type": "execute_result"
    }
   ],
   "source": [
    "def conc_str(s1, s2):\n",
    "    print(s1 + s2)\n",
    "    return s1 + s2\n",
    "\n",
    "conc_str('hello ', 'world')"
   ]
  },
  {
   "cell_type": "markdown",
   "metadata": {},
   "source": [
    "---\n",
    "\n",
    "# Question 30\n",
    "\n",
    "### **Question:**\n",
    "\n",
    "> **_Define a function that can accept two strings as input and print the string with maximum length in console. If two strings have the same length, then the function should print all strings line by line._**\n",
    "\n",
    "---\n",
    "\n",
    "### Hints:\n",
    "\n",
    "> **_Use len() function to get the length of a string._**\n",
    "\n",
    "---\n",
    "\n",
    "\n",
    "\n",
    "**Solutions:**"
   ]
  },
  {
   "cell_type": "code",
   "execution_count": 11,
   "metadata": {},
   "outputs": [
    {
     "name": "stdout",
     "output_type": "stream",
     "text": [
      "hello\n",
      "hello\n",
      "trial 2\n",
      "hey\n",
      "trial 3\n",
      "hello\n"
     ]
    }
   ],
   "source": [
    "def long_str(s1, s2):\n",
    "    s1l = len(s1)\n",
    "    s2l = len(s2)\n",
    "    if s1l == s2l:\n",
    "        print(s1)\n",
    "        print(s2)\n",
    "    elif s1l > s2l:\n",
    "        print(s1)\n",
    "    else:\n",
    "        print(s2)\n",
    "    \n",
    "long_str('hello', 'hello')\n",
    "print('trial 2')\n",
    "long_str('hi', 'hey')\n",
    "print('trial 3')\n",
    "long_str('hey','hello')"
   ]
  },
  {
   "cell_type": "markdown",
   "metadata": {},
   "source": [
    "---"
   ]
  }
 ],
 "metadata": {
  "kernelspec": {
   "display_name": "Python 3",
   "language": "python",
   "name": "python3"
  },
  "language_info": {
   "codemirror_mode": {
    "name": "ipython",
    "version": 3
   },
   "file_extension": ".py",
   "mimetype": "text/x-python",
   "name": "python",
   "nbconvert_exporter": "python",
   "pygments_lexer": "ipython3",
   "version": "3.8.5"
  }
 },
 "nbformat": 4,
 "nbformat_minor": 4
}
